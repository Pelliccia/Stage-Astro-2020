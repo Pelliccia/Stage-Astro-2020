{
 "cells": [
  {
   "cell_type": "markdown",
   "metadata": {},
   "source": [
    "## Traitement de données des observations:"
   ]
  },
  {
   "cell_type": "markdown",
   "metadata": {},
   "source": [
    "Commençons par importer numpy"
   ]
  },
  {
   "cell_type": "code",
   "execution_count": 1,
   "metadata": {},
   "outputs": [],
   "source": [
    "import numpy as np"
   ]
  },
  {
   "cell_type": "markdown",
   "metadata": {},
   "source": [
    "<font color='black'>\n",
    "A l'aide du logiciel Iris, nous avons pu utiliser les images enregistrées par le télescope T5 pour en déduire le flux de lumière de notre étoile AH VIR (Vmax=8.890 mag) ainsi que celle de notre étoile de comparaison HD 106815 (V=9.38 mag). Bien que le logiciel utilise une unité arbitraire (ADU), nous allons simplement utiliser le rapport entre les deux flux ainsi que la définition de magnitude apparente pour déterminer la magnitude de AH Vir à une phase donnée.\n",
    "    \n",
    "    \n",
    "$$\\begin{equation}\n",
    "m_{HD 106815} - m_{AH Vir}=-2.5 \\cdot \\log\\left(\\frac{f_{HD 106815}}{f_{AH Vir}}\\right)\n",
    "\\end{equation}$$\n",
    "<font>"
   ]
  },
  {
   "cell_type": "markdown",
   "metadata": {},
   "source": [
    "<font color='black'>\n",
    "Commençons par créer une routine qui permet de déterminer la magnitude apparente de notre étoile. Ayant fait 5 observations par phases, nous allons également en profiter pour calculer la magnitude moyenne de chaque phase.\n",
    "<font>"
   ]
  },
  {
   "cell_type": "code",
   "execution_count": 2,
   "metadata": {},
   "outputs": [],
   "source": [
    "def mag_finder(Fvir,Fcomp,phases):\n",
    "#--------------------------------------- Constantes et listes vides\n",
    "    mcomp=9.38     #Magnitude apparente de HD 106815\n",
    "    Mvir=[]        #Liste allant stocker les magnitudes apparentes de AH Vir (5 par phase)\n",
    "    Means=[]       #Liste allant stocker les moyennes de chaque phase\n",
    "#--------------------------------------- Routine principale\n",
    "    for i in range (len(phases)): #i va compter le nombre de phases\n",
    "        Mvir.append([])           #On crée une liste dans Magnitude Vir pour chaque phase\n",
    "        print(phases[i],\":\")      #Cette étape ne sert que pour présenter les résultats pour une phase donnée\n",
    "        for j in range(len(Fvir[i])):     #Cette boucle va nous calculer la magnitude pour chaque observation\n",
    "            Mvir[i].append(mcomp+2.5*np.log10(Fcomp[i][j]/Fvir[i][j]))\n",
    "            print('\\n', Mvir[i][j])       #Nous retournons la j^ème observation de la phase i\n",
    "        Means.append(np.mean(Mvir))       #Nous faisons la moyenne la phase i\n",
    "        print(\"Magnitude moyenne:\",Means[i])                   #Nous retournons enfin chaque moyenne\n",
    "    return(\"\")"
   ]
  },
  {
   "cell_type": "code",
   "execution_count": 3,
   "metadata": {},
   "outputs": [
    {
     "name": "stdout",
     "output_type": "stream",
     "text": [
      "0.375 :\n",
      "\n",
      " 9.207035537809418\n",
      "\n",
      " 9.25410272789269\n",
      "\n",
      " 9.221807867898185\n",
      "\n",
      " 9.230031061799739\n",
      "\n",
      " 9.20629442104331\n",
      "Magnitude moyenne: 9.223854323288668\n",
      "0.875 :\n",
      "\n",
      " 9.295407976265922\n",
      "\n",
      " 9.279602746463702\n",
      "\n",
      " 9.25006914938918\n",
      "\n",
      " 9.267291228689164\n",
      "\n",
      " 9.27003652501654\n",
      "Magnitude moyenne: 9.248167924226784\n",
      "\n"
     ]
    }
   ],
   "source": [
    "Fvir = [[94836.0, 93492.0, 95705.0, 94759.0, 95687.0],\n",
    "        [81503.0, 82357.0, 84309.0, 83274.0, 83617.0]]\n",
    "\n",
    "Fcomp = [[80870.0, 83256.0, 82729.0, 82534.0, 81540.0],\n",
    "         [75394.0, 75083.0, 74800.0, 75063.0, 75563.0]]\n",
    "\n",
    "phases = [0.375, 0.875]\n",
    "\n",
    "M_AHVir = mag_finder(Fvir,Fcomp,phases)\n",
    "print(M_AHVir)"
   ]
  },
  {
   "cell_type": "code",
   "execution_count": null,
   "metadata": {},
   "outputs": [],
   "source": []
  },
  {
   "cell_type": "code",
   "execution_count": null,
   "metadata": {},
   "outputs": [],
   "source": []
  }
 ],
 "metadata": {
  "kernelspec": {
   "display_name": "Python 3",
   "language": "python",
   "name": "python3"
  },
  "language_info": {
   "codemirror_mode": {
    "name": "ipython",
    "version": 3
   },
   "file_extension": ".py",
   "mimetype": "text/x-python",
   "name": "python",
   "nbconvert_exporter": "python",
   "pygments_lexer": "ipython3",
   "version": "3.7.6"
  }
 },
 "nbformat": 4,
 "nbformat_minor": 2
}
